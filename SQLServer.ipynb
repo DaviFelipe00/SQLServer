{
 "cells": [
  {
   "cell_type": "markdown",
   "id": "2578901b-edb7-4283-9af1-54ee6d2abfb5",
   "metadata": {},
   "source": [
    "# Introdução ao SQL :"
   ]
  },
  {
   "cell_type": "markdown",
   "id": "52ba1b31-14fd-4cbf-b819-684ca53ae86e",
   "metadata": {},
   "source": [
    "## SQL (Structured Query Language)\n",
    "é uma linguagem usada para conversar com bancos de dados. Pense em um banco de dados como um grande arquivo organizado, onde informações são armazenadas, como os contatos do seu celular ou o histórico de compras de um site.\n",
    "\n",
    "## SQL Server\n",
    "é um sistema de gerenciamento de banco de dados (SGBD) criado pela Microsoft. Ele usa a linguagem SQL para armazenar, organizar e recuperar dados de forma eficiente. Pense nele como um grande cofre digital onde empresas guardam informações importantes, como cadastros de clientes, registros de vendas e até dados de aplicativos. O SQL Server gerencia esses dados, garantindo que eles sejam acessados de forma rápida e segura.\n"
   ]
  },
  {
   "cell_type": "markdown",
   "id": "9bd02727-40c0-4a39-8b3b-28316f0c6e36",
   "metadata": {},
   "source": [
    "## Criação do banco de dados: \n",
    "\n",
    "**CREATE DATABASE** *(Nome do Banco)*;\n",
    "O banco de dados é onde será armazenado as tabelas.\n",
    "É o ponto de partida inicial para desenvolver seu banco de dados."
   ]
  },
  {
   "cell_type": "markdown",
   "id": "edf73655-99fb-4328-9116-8570e9177687",
   "metadata": {},
   "source": [
    "Exemplo:\n",
    "\n",
    "**CREATE DATABASE** Biblioteca;\n",
    "\n",
    "*Dessa forma é criado um espaço na memória onde será o banco de dados*"
   ]
  },
  {
   "cell_type": "markdown",
   "id": "d773f681-5c3f-46ef-b4b3-b22c710b40be",
   "metadata": {},
   "source": [
    "## Tipos de dados:\n",
    "\n",
    "No SQL Server os tipos de dados são separados em categorias, sendo elas:\n",
    "\n",
    "1. Números\n",
    "2. Datas\n",
    "3. Caracteres\n",
    "4. Texto\n",
    "5. Booleanos\n",
    "\n",
    "*Cada Grupo de dados possui suas ramificações.*\n",
    "\n",
    "No conjunto dos números as mais comuns são:\n",
    "\n",
    "1. INT *(números inteiros)*\n",
    "2. SMALLINT *(armazena conjunto de números inteiros menores)*\n",
    "3. TINYINT *(armazena de 0 á 255)*\n",
    "4. BIGINT *(armazena grandes números)*\n",
    "5. DECIMAL *(Armazena decimais)*\n",
    "6. FLOAT *(Armazena números com ponto-flutuante)*\n",
    "7. REAL *(Armazena números decimais com aproximidade)*\n",
    "8. MONEY *(Armazena valores monetários)*\n"
   ]
  },
  {
   "cell_type": "markdown",
   "id": "fd6f6ec3-cca0-4d89-b10a-cca74c55bad5",
   "metadata": {},
   "source": [
    "No conjunto dos Textos e Caracteres existem:\n",
    "\n",
    "1. CHAR *(Armazena um texto de tamanho fixo (ex: CHAR(10) sempre terá 10 caracteres))*\n",
    "2. VARCHAR *(Armazena um texto de tamanho variável (ex: VARCHAR(50) pode ter até 50 caracteres).)* \n",
    "3. TEXT *(ara textos longos (mas está obsoleto, recomenda-se usar VARCHAR(MAX)))*"
   ]
  },
  {
   "cell_type": "markdown",
   "id": "7de289ed-ff6f-4862-a8e0-ef410c649d78",
   "metadata": {},
   "source": [
    "No Conjunto de Datas temos:\n",
    "\n",
    "1. DATE *(Apenas a data (ex: 2025-02-18))*\n",
    "2. TIME *(Apenas para horas ((ex: 14:30:00))*\n",
    "3. DATETIME *(Data e hora juntos (ex: 2025-02-18 14:30:00).)*\n",
    "4. TIMESTAMP *(Marca um momento exato, útil para controle de alterações.)*"
   ]
  }
 ],
 "metadata": {
  "kernelspec": {
   "display_name": "Python 3 (ipykernel)",
   "language": "python",
   "name": "python3"
  },
  "language_info": {
   "codemirror_mode": {
    "name": "ipython",
    "version": 3
   },
   "file_extension": ".py",
   "mimetype": "text/x-python",
   "name": "python",
   "nbconvert_exporter": "python",
   "pygments_lexer": "ipython3",
   "version": "3.12.4"
  }
 },
 "nbformat": 4,
 "nbformat_minor": 5
}
